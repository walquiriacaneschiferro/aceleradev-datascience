{
 "cells": [
  {
   "cell_type": "markdown",
   "metadata": {},
   "source": [
    "# Desafio 6\n",
    "\n",
    "Neste desafio, vamos praticar _feature engineering_, um dos processos mais importantes e trabalhosos de ML. Utilizaremos o _data set_ [Countries of the world](https://www.kaggle.com/fernandol/countries-of-the-world), que contém dados sobre os 227 países do mundo com informações sobre tamanho da população, área, imigração e setores de produção.\n",
    "\n",
    "> Obs.: Por favor, não modifique o nome das funções de resposta."
   ]
  },
  {
   "cell_type": "markdown",
   "metadata": {},
   "source": [
    "## _Setup_ geral"
   ]
  },
  {
   "cell_type": "code",
   "execution_count": 52,
   "metadata": {},
   "outputs": [],
   "source": [
    "import pandas as pd\n",
    "import numpy as np\n",
    "import seaborn as sns\n",
    "import sklearn as sk\n",
    "from sklearn.preprocessing import OneHotEncoder, KBinsDiscretizer, StandardScaler\n",
    "from sklearn.impute import SimpleImputer\n",
    "from sklearn.pipeline import Pipeline\n",
    "from sklearn.feature_extraction.text import CountVectorizer\n",
    "from sklearn.datasets import fetch_20newsgroups\n",
    "from sklearn.feature_extraction.text import TfidfVectorizer"
   ]
  },
  {
   "cell_type": "code",
   "execution_count": 53,
   "metadata": {},
   "outputs": [],
   "source": [
    "# Algumas configurações para o matplotlib.\n",
    "#%matplotlib inline\n",
    "#from IPython.core.pylabtools import figsize\n",
    "#figsize(12, 8)\n",
    "#sns.set()"
   ]
  },
  {
   "cell_type": "code",
   "execution_count": 54,
   "metadata": {
    "scrolled": false
   },
   "outputs": [],
   "source": [
    "countries = pd.read_csv(\"countries.csv\")"
   ]
  },
  {
   "cell_type": "code",
   "execution_count": 55,
   "metadata": {},
   "outputs": [
    {
     "data": {
      "text/html": [
       "<div>\n",
       "<style scoped>\n",
       "    .dataframe tbody tr th:only-of-type {\n",
       "        vertical-align: middle;\n",
       "    }\n",
       "\n",
       "    .dataframe tbody tr th {\n",
       "        vertical-align: top;\n",
       "    }\n",
       "\n",
       "    .dataframe thead th {\n",
       "        text-align: right;\n",
       "    }\n",
       "</style>\n",
       "<table border=\"1\" class=\"dataframe\">\n",
       "  <thead>\n",
       "    <tr style=\"text-align: right;\">\n",
       "      <th></th>\n",
       "      <th>Country</th>\n",
       "      <th>Region</th>\n",
       "      <th>Population</th>\n",
       "      <th>Area</th>\n",
       "      <th>Pop_density</th>\n",
       "      <th>Coastline_ratio</th>\n",
       "      <th>Net_migration</th>\n",
       "      <th>Infant_mortality</th>\n",
       "      <th>GDP</th>\n",
       "      <th>Literacy</th>\n",
       "      <th>Phones_per_1000</th>\n",
       "      <th>Arable</th>\n",
       "      <th>Crops</th>\n",
       "      <th>Other</th>\n",
       "      <th>Climate</th>\n",
       "      <th>Birthrate</th>\n",
       "      <th>Deathrate</th>\n",
       "      <th>Agriculture</th>\n",
       "      <th>Industry</th>\n",
       "      <th>Service</th>\n",
       "    </tr>\n",
       "  </thead>\n",
       "  <tbody>\n",
       "    <tr>\n",
       "      <th>0</th>\n",
       "      <td>Afghanistan</td>\n",
       "      <td>ASIA (EX. NEAR EAST)</td>\n",
       "      <td>31056997</td>\n",
       "      <td>647500</td>\n",
       "      <td>48,0</td>\n",
       "      <td>0,00</td>\n",
       "      <td>23,06</td>\n",
       "      <td>163,07</td>\n",
       "      <td>700.0</td>\n",
       "      <td>36,0</td>\n",
       "      <td>3,2</td>\n",
       "      <td>12,13</td>\n",
       "      <td>0,22</td>\n",
       "      <td>87,65</td>\n",
       "      <td>1</td>\n",
       "      <td>46,6</td>\n",
       "      <td>20,34</td>\n",
       "      <td>0,38</td>\n",
       "      <td>0,24</td>\n",
       "      <td>0,38</td>\n",
       "    </tr>\n",
       "    <tr>\n",
       "      <th>1</th>\n",
       "      <td>Albania</td>\n",
       "      <td>EASTERN EUROPE</td>\n",
       "      <td>3581655</td>\n",
       "      <td>28748</td>\n",
       "      <td>124,6</td>\n",
       "      <td>1,26</td>\n",
       "      <td>-4,93</td>\n",
       "      <td>21,52</td>\n",
       "      <td>4500.0</td>\n",
       "      <td>86,5</td>\n",
       "      <td>71,2</td>\n",
       "      <td>21,09</td>\n",
       "      <td>4,42</td>\n",
       "      <td>74,49</td>\n",
       "      <td>3</td>\n",
       "      <td>15,11</td>\n",
       "      <td>5,22</td>\n",
       "      <td>0,232</td>\n",
       "      <td>0,188</td>\n",
       "      <td>0,579</td>\n",
       "    </tr>\n",
       "    <tr>\n",
       "      <th>2</th>\n",
       "      <td>Algeria</td>\n",
       "      <td>NORTHERN AFRICA</td>\n",
       "      <td>32930091</td>\n",
       "      <td>2381740</td>\n",
       "      <td>13,8</td>\n",
       "      <td>0,04</td>\n",
       "      <td>-0,39</td>\n",
       "      <td>31</td>\n",
       "      <td>6000.0</td>\n",
       "      <td>70,0</td>\n",
       "      <td>78,1</td>\n",
       "      <td>3,22</td>\n",
       "      <td>0,25</td>\n",
       "      <td>96,53</td>\n",
       "      <td>1</td>\n",
       "      <td>17,14</td>\n",
       "      <td>4,61</td>\n",
       "      <td>0,101</td>\n",
       "      <td>0,6</td>\n",
       "      <td>0,298</td>\n",
       "    </tr>\n",
       "    <tr>\n",
       "      <th>3</th>\n",
       "      <td>American Samoa</td>\n",
       "      <td>OCEANIA</td>\n",
       "      <td>57794</td>\n",
       "      <td>199</td>\n",
       "      <td>290,4</td>\n",
       "      <td>58,29</td>\n",
       "      <td>-20,71</td>\n",
       "      <td>9,27</td>\n",
       "      <td>8000.0</td>\n",
       "      <td>97,0</td>\n",
       "      <td>259,5</td>\n",
       "      <td>10</td>\n",
       "      <td>15</td>\n",
       "      <td>75</td>\n",
       "      <td>2</td>\n",
       "      <td>22,46</td>\n",
       "      <td>3,27</td>\n",
       "      <td>NaN</td>\n",
       "      <td>NaN</td>\n",
       "      <td>NaN</td>\n",
       "    </tr>\n",
       "    <tr>\n",
       "      <th>4</th>\n",
       "      <td>Andorra</td>\n",
       "      <td>WESTERN EUROPE</td>\n",
       "      <td>71201</td>\n",
       "      <td>468</td>\n",
       "      <td>152,1</td>\n",
       "      <td>0,00</td>\n",
       "      <td>6,6</td>\n",
       "      <td>4,05</td>\n",
       "      <td>19000.0</td>\n",
       "      <td>100,0</td>\n",
       "      <td>497,2</td>\n",
       "      <td>2,22</td>\n",
       "      <td>0</td>\n",
       "      <td>97,78</td>\n",
       "      <td>3</td>\n",
       "      <td>8,71</td>\n",
       "      <td>6,25</td>\n",
       "      <td>NaN</td>\n",
       "      <td>NaN</td>\n",
       "      <td>NaN</td>\n",
       "    </tr>\n",
       "  </tbody>\n",
       "</table>\n",
       "</div>"
      ],
      "text/plain": [
       "           Country                               Region  Population     Area  \\\n",
       "0     Afghanistan         ASIA (EX. NEAR EAST)             31056997   647500   \n",
       "1         Albania   EASTERN EUROPE                          3581655    28748   \n",
       "2         Algeria   NORTHERN AFRICA                        32930091  2381740   \n",
       "3  American Samoa   OCEANIA                                   57794      199   \n",
       "4         Andorra   WESTERN EUROPE                            71201      468   \n",
       "\n",
       "  Pop_density Coastline_ratio Net_migration Infant_mortality      GDP  \\\n",
       "0        48,0            0,00         23,06           163,07    700.0   \n",
       "1       124,6            1,26         -4,93            21,52   4500.0   \n",
       "2        13,8            0,04         -0,39               31   6000.0   \n",
       "3       290,4           58,29        -20,71             9,27   8000.0   \n",
       "4       152,1            0,00           6,6             4,05  19000.0   \n",
       "\n",
       "  Literacy Phones_per_1000 Arable Crops  Other Climate Birthrate Deathrate  \\\n",
       "0     36,0             3,2  12,13  0,22  87,65       1      46,6     20,34   \n",
       "1     86,5            71,2  21,09  4,42  74,49       3     15,11      5,22   \n",
       "2     70,0            78,1   3,22  0,25  96,53       1     17,14      4,61   \n",
       "3     97,0           259,5     10    15     75       2     22,46      3,27   \n",
       "4    100,0           497,2   2,22     0  97,78       3      8,71      6,25   \n",
       "\n",
       "  Agriculture Industry Service  \n",
       "0        0,38     0,24    0,38  \n",
       "1       0,232    0,188   0,579  \n",
       "2       0,101      0,6   0,298  \n",
       "3         NaN      NaN     NaN  \n",
       "4         NaN      NaN     NaN  "
      ]
     },
     "execution_count": 55,
     "metadata": {},
     "output_type": "execute_result"
    }
   ],
   "source": [
    "new_column_names = [\n",
    "    \"Country\", \"Region\", \"Population\", \"Area\", \"Pop_density\", \"Coastline_ratio\",\n",
    "    \"Net_migration\", \"Infant_mortality\", \"GDP\", \"Literacy\", \"Phones_per_1000\",\n",
    "    \"Arable\", \"Crops\", \"Other\", \"Climate\", \"Birthrate\", \"Deathrate\", \"Agriculture\",\n",
    "    \"Industry\", \"Service\"\n",
    "]\n",
    "\n",
    "countries.columns = new_column_names\n",
    "\n",
    "countries.head(5)"
   ]
  },
  {
   "cell_type": "markdown",
   "metadata": {},
   "source": [
    "## Observações\n",
    "\n",
    "Esse _data set_ ainda precisa de alguns ajustes iniciais. Primeiro, note que as variáveis numéricas estão usando vírgula como separador decimal e estão codificadas como strings. Corrija isso antes de continuar: transforme essas variáveis em numéricas adequadamente.\n",
    "\n",
    "Além disso, as variáveis `Country` e `Region` possuem espaços a mais no começo e no final da string. Você pode utilizar o método `str.strip()` para remover esses espaços."
   ]
  },
  {
   "cell_type": "markdown",
   "metadata": {},
   "source": [
    "## Inicia sua análise a partir daqui"
   ]
  },
  {
   "cell_type": "code",
   "execution_count": 56,
   "metadata": {},
   "outputs": [
    {
     "data": {
      "text/plain": [
       "Country              object\n",
       "Region               object\n",
       "Population            int64\n",
       "Area                  int64\n",
       "Pop_density          object\n",
       "Coastline_ratio      object\n",
       "Net_migration        object\n",
       "Infant_mortality     object\n",
       "GDP                 float64\n",
       "Literacy             object\n",
       "Phones_per_1000      object\n",
       "Arable               object\n",
       "Crops                object\n",
       "Other                object\n",
       "Climate              object\n",
       "Birthrate            object\n",
       "Deathrate            object\n",
       "Agriculture          object\n",
       "Industry             object\n",
       "Service              object\n",
       "dtype: object"
      ]
     },
     "execution_count": 56,
     "metadata": {},
     "output_type": "execute_result"
    }
   ],
   "source": [
    "# Sua análise começa aqui.\n",
    "countries.dtypes"
   ]
  },
  {
   "cell_type": "code",
   "execution_count": 57,
   "metadata": {},
   "outputs": [],
   "source": [
    "columns_to_convert = [\"Pop_density\", \"Coastline_ratio\",\n",
    "    \"Net_migration\", \"Infant_mortality\", \"Literacy\", \"Phones_per_1000\",\n",
    "    \"Arable\", \"Crops\", \"Other\", \"Climate\", \"Birthrate\", \"Deathrate\", \"Agriculture\",\n",
    "    \"Industry\", \"Service\"\n",
    "]\n",
    "\n",
    "countries[columns_to_convert] = countries[columns_to_convert].apply(lambda x: x.str.replace(',' , '.')).astype(float)"
   ]
  },
  {
   "cell_type": "code",
   "execution_count": 58,
   "metadata": {},
   "outputs": [],
   "source": [
    "countries[\"Country\"] = countries[\"Country\"].str.strip()\n",
    "countries[\"Region\"] = countries[\"Region\"].str.strip()"
   ]
  },
  {
   "cell_type": "code",
   "execution_count": 59,
   "metadata": {},
   "outputs": [
    {
     "data": {
      "text/html": [
       "<div>\n",
       "<style scoped>\n",
       "    .dataframe tbody tr th:only-of-type {\n",
       "        vertical-align: middle;\n",
       "    }\n",
       "\n",
       "    .dataframe tbody tr th {\n",
       "        vertical-align: top;\n",
       "    }\n",
       "\n",
       "    .dataframe thead th {\n",
       "        text-align: right;\n",
       "    }\n",
       "</style>\n",
       "<table border=\"1\" class=\"dataframe\">\n",
       "  <thead>\n",
       "    <tr style=\"text-align: right;\">\n",
       "      <th></th>\n",
       "      <th>Population</th>\n",
       "      <th>Area</th>\n",
       "      <th>Pop_density</th>\n",
       "      <th>Coastline_ratio</th>\n",
       "      <th>Net_migration</th>\n",
       "      <th>Infant_mortality</th>\n",
       "      <th>GDP</th>\n",
       "      <th>Literacy</th>\n",
       "      <th>Phones_per_1000</th>\n",
       "      <th>Arable</th>\n",
       "      <th>Crops</th>\n",
       "      <th>Other</th>\n",
       "      <th>Climate</th>\n",
       "      <th>Birthrate</th>\n",
       "      <th>Deathrate</th>\n",
       "      <th>Agriculture</th>\n",
       "      <th>Industry</th>\n",
       "      <th>Service</th>\n",
       "    </tr>\n",
       "  </thead>\n",
       "  <tbody>\n",
       "    <tr>\n",
       "      <th>count</th>\n",
       "      <td>2.270000e+02</td>\n",
       "      <td>2.270000e+02</td>\n",
       "      <td>227.000000</td>\n",
       "      <td>227.000000</td>\n",
       "      <td>224.000000</td>\n",
       "      <td>224.000000</td>\n",
       "      <td>226.000000</td>\n",
       "      <td>209.000000</td>\n",
       "      <td>223.000000</td>\n",
       "      <td>225.000000</td>\n",
       "      <td>225.000000</td>\n",
       "      <td>225.000000</td>\n",
       "      <td>205.000000</td>\n",
       "      <td>224.000000</td>\n",
       "      <td>223.000000</td>\n",
       "      <td>212.000000</td>\n",
       "      <td>211.000000</td>\n",
       "      <td>212.000000</td>\n",
       "    </tr>\n",
       "    <tr>\n",
       "      <th>mean</th>\n",
       "      <td>2.874028e+07</td>\n",
       "      <td>5.982270e+05</td>\n",
       "      <td>379.047137</td>\n",
       "      <td>21.165330</td>\n",
       "      <td>0.038125</td>\n",
       "      <td>35.506964</td>\n",
       "      <td>9689.823009</td>\n",
       "      <td>82.838278</td>\n",
       "      <td>236.061435</td>\n",
       "      <td>13.797111</td>\n",
       "      <td>4.564222</td>\n",
       "      <td>81.638311</td>\n",
       "      <td>2.139024</td>\n",
       "      <td>22.114732</td>\n",
       "      <td>9.241345</td>\n",
       "      <td>0.150844</td>\n",
       "      <td>0.282711</td>\n",
       "      <td>0.565283</td>\n",
       "    </tr>\n",
       "    <tr>\n",
       "      <th>std</th>\n",
       "      <td>1.178913e+08</td>\n",
       "      <td>1.790282e+06</td>\n",
       "      <td>1660.185825</td>\n",
       "      <td>72.286863</td>\n",
       "      <td>4.889269</td>\n",
       "      <td>35.389899</td>\n",
       "      <td>10049.138513</td>\n",
       "      <td>19.722173</td>\n",
       "      <td>227.991829</td>\n",
       "      <td>13.040402</td>\n",
       "      <td>8.361470</td>\n",
       "      <td>16.140835</td>\n",
       "      <td>0.699397</td>\n",
       "      <td>11.176716</td>\n",
       "      <td>4.990026</td>\n",
       "      <td>0.146798</td>\n",
       "      <td>0.138272</td>\n",
       "      <td>0.165841</td>\n",
       "    </tr>\n",
       "    <tr>\n",
       "      <th>min</th>\n",
       "      <td>7.026000e+03</td>\n",
       "      <td>2.000000e+00</td>\n",
       "      <td>0.000000</td>\n",
       "      <td>0.000000</td>\n",
       "      <td>-20.990000</td>\n",
       "      <td>2.290000</td>\n",
       "      <td>500.000000</td>\n",
       "      <td>17.600000</td>\n",
       "      <td>0.200000</td>\n",
       "      <td>0.000000</td>\n",
       "      <td>0.000000</td>\n",
       "      <td>33.330000</td>\n",
       "      <td>1.000000</td>\n",
       "      <td>7.290000</td>\n",
       "      <td>2.290000</td>\n",
       "      <td>0.000000</td>\n",
       "      <td>0.020000</td>\n",
       "      <td>0.062000</td>\n",
       "    </tr>\n",
       "    <tr>\n",
       "      <th>25%</th>\n",
       "      <td>4.376240e+05</td>\n",
       "      <td>4.647500e+03</td>\n",
       "      <td>29.150000</td>\n",
       "      <td>0.100000</td>\n",
       "      <td>-0.927500</td>\n",
       "      <td>8.150000</td>\n",
       "      <td>1900.000000</td>\n",
       "      <td>70.600000</td>\n",
       "      <td>37.800000</td>\n",
       "      <td>3.220000</td>\n",
       "      <td>0.190000</td>\n",
       "      <td>71.650000</td>\n",
       "      <td>2.000000</td>\n",
       "      <td>12.672500</td>\n",
       "      <td>5.910000</td>\n",
       "      <td>0.037750</td>\n",
       "      <td>0.193000</td>\n",
       "      <td>0.429250</td>\n",
       "    </tr>\n",
       "    <tr>\n",
       "      <th>50%</th>\n",
       "      <td>4.786994e+06</td>\n",
       "      <td>8.660000e+04</td>\n",
       "      <td>78.800000</td>\n",
       "      <td>0.730000</td>\n",
       "      <td>0.000000</td>\n",
       "      <td>21.000000</td>\n",
       "      <td>5550.000000</td>\n",
       "      <td>92.500000</td>\n",
       "      <td>176.200000</td>\n",
       "      <td>10.420000</td>\n",
       "      <td>1.030000</td>\n",
       "      <td>85.700000</td>\n",
       "      <td>2.000000</td>\n",
       "      <td>18.790000</td>\n",
       "      <td>7.840000</td>\n",
       "      <td>0.099000</td>\n",
       "      <td>0.272000</td>\n",
       "      <td>0.571000</td>\n",
       "    </tr>\n",
       "    <tr>\n",
       "      <th>75%</th>\n",
       "      <td>1.749777e+07</td>\n",
       "      <td>4.418110e+05</td>\n",
       "      <td>190.150000</td>\n",
       "      <td>10.345000</td>\n",
       "      <td>0.997500</td>\n",
       "      <td>55.705000</td>\n",
       "      <td>15700.000000</td>\n",
       "      <td>98.000000</td>\n",
       "      <td>389.650000</td>\n",
       "      <td>20.000000</td>\n",
       "      <td>4.440000</td>\n",
       "      <td>95.440000</td>\n",
       "      <td>3.000000</td>\n",
       "      <td>29.820000</td>\n",
       "      <td>10.605000</td>\n",
       "      <td>0.221000</td>\n",
       "      <td>0.341000</td>\n",
       "      <td>0.678500</td>\n",
       "    </tr>\n",
       "    <tr>\n",
       "      <th>max</th>\n",
       "      <td>1.313974e+09</td>\n",
       "      <td>1.707520e+07</td>\n",
       "      <td>16271.500000</td>\n",
       "      <td>870.660000</td>\n",
       "      <td>23.060000</td>\n",
       "      <td>191.190000</td>\n",
       "      <td>55100.000000</td>\n",
       "      <td>100.000000</td>\n",
       "      <td>1035.600000</td>\n",
       "      <td>62.110000</td>\n",
       "      <td>50.680000</td>\n",
       "      <td>100.000000</td>\n",
       "      <td>4.000000</td>\n",
       "      <td>50.730000</td>\n",
       "      <td>29.740000</td>\n",
       "      <td>0.769000</td>\n",
       "      <td>0.906000</td>\n",
       "      <td>0.954000</td>\n",
       "    </tr>\n",
       "  </tbody>\n",
       "</table>\n",
       "</div>"
      ],
      "text/plain": [
       "         Population          Area   Pop_density  Coastline_ratio  \\\n",
       "count  2.270000e+02  2.270000e+02    227.000000       227.000000   \n",
       "mean   2.874028e+07  5.982270e+05    379.047137        21.165330   \n",
       "std    1.178913e+08  1.790282e+06   1660.185825        72.286863   \n",
       "min    7.026000e+03  2.000000e+00      0.000000         0.000000   \n",
       "25%    4.376240e+05  4.647500e+03     29.150000         0.100000   \n",
       "50%    4.786994e+06  8.660000e+04     78.800000         0.730000   \n",
       "75%    1.749777e+07  4.418110e+05    190.150000        10.345000   \n",
       "max    1.313974e+09  1.707520e+07  16271.500000       870.660000   \n",
       "\n",
       "       Net_migration  Infant_mortality           GDP    Literacy  \\\n",
       "count     224.000000        224.000000    226.000000  209.000000   \n",
       "mean        0.038125         35.506964   9689.823009   82.838278   \n",
       "std         4.889269         35.389899  10049.138513   19.722173   \n",
       "min       -20.990000          2.290000    500.000000   17.600000   \n",
       "25%        -0.927500          8.150000   1900.000000   70.600000   \n",
       "50%         0.000000         21.000000   5550.000000   92.500000   \n",
       "75%         0.997500         55.705000  15700.000000   98.000000   \n",
       "max        23.060000        191.190000  55100.000000  100.000000   \n",
       "\n",
       "       Phones_per_1000      Arable       Crops       Other     Climate  \\\n",
       "count       223.000000  225.000000  225.000000  225.000000  205.000000   \n",
       "mean        236.061435   13.797111    4.564222   81.638311    2.139024   \n",
       "std         227.991829   13.040402    8.361470   16.140835    0.699397   \n",
       "min           0.200000    0.000000    0.000000   33.330000    1.000000   \n",
       "25%          37.800000    3.220000    0.190000   71.650000    2.000000   \n",
       "50%         176.200000   10.420000    1.030000   85.700000    2.000000   \n",
       "75%         389.650000   20.000000    4.440000   95.440000    3.000000   \n",
       "max        1035.600000   62.110000   50.680000  100.000000    4.000000   \n",
       "\n",
       "        Birthrate   Deathrate  Agriculture    Industry     Service  \n",
       "count  224.000000  223.000000   212.000000  211.000000  212.000000  \n",
       "mean    22.114732    9.241345     0.150844    0.282711    0.565283  \n",
       "std     11.176716    4.990026     0.146798    0.138272    0.165841  \n",
       "min      7.290000    2.290000     0.000000    0.020000    0.062000  \n",
       "25%     12.672500    5.910000     0.037750    0.193000    0.429250  \n",
       "50%     18.790000    7.840000     0.099000    0.272000    0.571000  \n",
       "75%     29.820000   10.605000     0.221000    0.341000    0.678500  \n",
       "max     50.730000   29.740000     0.769000    0.906000    0.954000  "
      ]
     },
     "execution_count": 59,
     "metadata": {},
     "output_type": "execute_result"
    }
   ],
   "source": [
    "countries.describe()"
   ]
  },
  {
   "cell_type": "markdown",
   "metadata": {},
   "source": [
    "## Questão 1\n",
    "\n",
    "Quais são as regiões (variável `Region`) presentes no _data set_? Retorne uma lista com as regiões únicas do _data set_ com os espaços à frente e atrás da string removidos (mas mantenha pontuação: ponto, hífen etc) e ordenadas em ordem alfabética."
   ]
  },
  {
   "cell_type": "code",
   "execution_count": 88,
   "metadata": {},
   "outputs": [],
   "source": [
    "def q1():\n",
    "    return list(countries['Region'].sort_values().unique())"
   ]
  },
  {
   "cell_type": "markdown",
   "metadata": {},
   "source": [
    "## Questão 2\n",
    "\n",
    "Discretizando a variável `Pop_density` em 10 intervalos com `KBinsDiscretizer`, seguindo o encode `ordinal` e estratégia `quantile`, quantos países se encontram acima do 90º percentil? Responda como um único escalar inteiro."
   ]
  },
  {
   "cell_type": "code",
   "execution_count": 62,
   "metadata": {},
   "outputs": [],
   "source": [
    "def q2():\n",
    "    discretizer = KBinsDiscretizer(n_bins=10, encode=\"ordinal\", strategy=\"quantile\")\n",
    "    bins = discretizer.fit_transform(countries[['Pop_density']])\n",
    "    quartile = np.quantile(bins, 0.9)\n",
    "    return bins[bins > quartile].shape[0]"
   ]
  },
  {
   "cell_type": "markdown",
   "metadata": {},
   "source": [
    "# Questão 3\n",
    "\n",
    "Se codificarmos as variáveis `Region` e `Climate` usando _one-hot encoding_, quantos novos atributos seriam criados? Responda como um único escalar."
   ]
  },
  {
   "cell_type": "code",
   "execution_count": 90,
   "metadata": {},
   "outputs": [
    {
     "data": {
      "text/plain": [
       "11"
      ]
     },
     "execution_count": 90,
     "metadata": {},
     "output_type": "execute_result"
    }
   ],
   "source": [
    "ohe = OneHotEncoder(sparse=False, dtype=np.int)\n",
    "region_encoded = ohe.fit_transform(countries[['Region']])\n",
    "region_encoded.shape[1]"
   ]
  },
  {
   "cell_type": "code",
   "execution_count": 91,
   "metadata": {},
   "outputs": [
    {
     "data": {
      "text/plain": [
       "7"
      ]
     },
     "execution_count": 91,
     "metadata": {},
     "output_type": "execute_result"
    }
   ],
   "source": [
    "climate_encoded = ohe.fit_transform(countries[['Climate']].fillna(countries[\"Climate\"].mean()))\n",
    "climate_encoded.shape[1]"
   ]
  },
  {
   "cell_type": "code",
   "execution_count": 92,
   "metadata": {},
   "outputs": [],
   "source": [
    "def q3():\n",
    "    return int(region_encoded.shape[1] + climate_encoded.shape[1])"
   ]
  },
  {
   "cell_type": "markdown",
   "metadata": {},
   "source": [
    "## Questão 4\n",
    "\n",
    "Aplique o seguinte _pipeline_:\n",
    "\n",
    "1. Preencha as variáveis do tipo `int64` e `float64` com suas respectivas medianas.\n",
    "2. Padronize essas variáveis.\n",
    "\n",
    "Após aplicado o _pipeline_ descrito acima aos dados (somente nas variáveis dos tipos especificados), aplique o mesmo _pipeline_ (ou `ColumnTransformer`) ao dado abaixo. Qual o valor da variável `Arable` após o _pipeline_? Responda como um único float arredondado para três casas decimais."
   ]
  },
  {
   "cell_type": "code",
   "execution_count": 67,
   "metadata": {},
   "outputs": [],
   "source": [
    "test_country = [\n",
    "    'Test Country', 'NEAR EAST', -0.19032480757326514,\n",
    "    -0.3232636124824411, -0.04421734470810142, -0.27528113360605316,\n",
    "    0.13255850810281325, -0.8054845935643491, 1.0119784924248225,\n",
    "    0.6189182532646624, 1.0074863283776458, 0.20239896852403538,\n",
    "    -0.043678728558593366, -0.13929748680369286, 1.3163604645710438,\n",
    "    -0.3699637766938669, -0.6149300604558857, -0.854369594993175,\n",
    "    0.263445277972641, 0.5712416961268142\n",
    "]"
   ]
  },
  {
   "cell_type": "code",
   "execution_count": 68,
   "metadata": {},
   "outputs": [
    {
     "data": {
      "text/plain": [
       "array([[ 0.01969468,  0.02758332, -0.19984434, ...,  1.63657562,\n",
       "        -0.31540576, -1.1611354 ],\n",
       "       [-0.21387688, -0.31879748, -0.15360296, ...,  0.59516349,\n",
       "        -0.70631815,  0.08342432],\n",
       "       [ 0.03561811,  0.99842051, -0.22048996, ..., -0.32662697,\n",
       "         2.39091078, -1.67396905],\n",
       "       ...,\n",
       "       [-0.06192308, -0.03933023, -0.20431152, ..., -0.08738364,\n",
       "         1.4286649 , -1.0798325 ],\n",
       "       [-0.14654488,  0.08642673, -0.21958445, ...,  0.51072467,\n",
       "         0.06047154, -0.47944188],\n",
       "       [-0.14029829, -0.11624192, -0.20992568, ...,  0.22222537,\n",
       "        -0.29285312,  0.08342432]])"
      ]
     },
     "execution_count": 68,
     "metadata": {},
     "output_type": "execute_result"
    }
   ],
   "source": [
    "pipeline = Pipeline(steps=[\n",
    "        (\"imputer\", SimpleImputer(strategy=\"median\")),\n",
    "        (\"scaler\", StandardScaler())])\n",
    "\n",
    "numeric_variables = countries.select_dtypes(include=['int64', 'float64'])\n",
    "\n",
    "pipeline.fit_transform(numeric_variables)"
   ]
  },
  {
   "cell_type": "code",
   "execution_count": 69,
   "metadata": {},
   "outputs": [],
   "source": [
    "test_country = np.array(test_country[2:]).reshape(1,-1)\n",
    "result = pipeline.transform(test_country)"
   ]
  },
  {
   "cell_type": "code",
   "execution_count": 70,
   "metadata": {},
   "outputs": [],
   "source": [
    "def q4():\n",
    "    return float(result[0][9].round(3))"
   ]
  },
  {
   "cell_type": "markdown",
   "metadata": {},
   "source": [
    "## Questão 5\n",
    "\n",
    "Descubra o número de _outliers_ da variável `Net_migration` segundo o método do _boxplot_, ou seja, usando a lógica:\n",
    "\n",
    "$$x \\notin [Q1 - 1.5 \\times \\text{IQR}, Q3 + 1.5 \\times \\text{IQR}] \\Rightarrow x \\text{ é outlier}$$\n",
    "\n",
    "que se encontram no grupo inferior e no grupo superior.\n",
    "\n",
    "Você deveria remover da análise as observações consideradas _outliers_ segundo esse método? Responda como uma tupla de três elementos `(outliers_abaixo, outliers_acima, removeria?)` ((int, int, bool))."
   ]
  },
  {
   "cell_type": "code",
   "execution_count": 71,
   "metadata": {},
   "outputs": [
    {
     "data": {
      "image/png": "[encoded data removed]",
      "text/plain": [
       "<Figure size 432x288 with 1 Axes>"
      ]
     },
     "metadata": {
      "needs_background": "light"
     },
     "output_type": "display_data"
    }
   ],
   "source": [
    "ax = sns.boxplot(countries['Net_migration']) #Visualizando o boxplot "
   ]
  },
  {
   "cell_type": "code",
   "execution_count": 72,
   "metadata": {},
   "outputs": [
    {
     "name": "stdout",
     "output_type": "stream",
     "text": [
      "24 26\n"
     ]
    }
   ],
   "source": [
    "q1 = countries['Net_migration'].quantile(0.25) \n",
    "q3 = countries['Net_migration'].quantile(0.75) \n",
    "    \n",
    "iqr = q3 - q1\n",
    "\n",
    "intervalo_abaixo = q1 - 1.5 * iqr\n",
    "intervalo_acima = q3 + 1.5 * iqr\n",
    "\n",
    "outliers_abaixo = int((countries['Net_migration'] < intervalo_abaixo).sum())\n",
    "outliers_acima = int((countries['Net_migration'] > intervalo_acima).sum())\n",
    "    \n",
    "print(outliers_abaixo, outliers_acima)"
   ]
  },
  {
   "cell_type": "code",
   "execution_count": 73,
   "metadata": {},
   "outputs": [],
   "source": [
    "def q5():\n",
    "    return (outliers_abaixo, outliers_acima, False)"
   ]
  },
  {
   "cell_type": "markdown",
   "metadata": {},
   "source": [
    "## Questão 6\n",
    "Para as questões 6 e 7 utilize a biblioteca `fetch_20newsgroups` de datasets de test do `sklearn`\n",
    "\n",
    "Considere carregar as seguintes categorias e o dataset `newsgroups`:\n",
    "\n",
    "```\n",
    "categories = ['sci.electronics', 'comp.graphics', 'rec.motorcycles']\n",
    "newsgroup = fetch_20newsgroups(subset=\"train\", categories=categories, shuffle=True, random_state=42)\n",
    "```\n",
    "\n",
    "\n",
    "Aplique `CountVectorizer` ao _data set_ `newsgroups` e descubra o número de vezes que a palavra _phone_ aparece no corpus. Responda como um único escalar."
   ]
  },
  {
   "cell_type": "code",
   "execution_count": 74,
   "metadata": {},
   "outputs": [],
   "source": [
    "categories = ['sci.electronics', 'comp.graphics', 'rec.motorcycles']\n",
    "newsgroup = fetch_20newsgroups(subset=\"train\", categories=categories, shuffle=True, random_state=42)"
   ]
  },
  {
   "cell_type": "code",
   "execution_count": 75,
   "metadata": {},
   "outputs": [],
   "source": [
    "vectorizer = CountVectorizer()\n",
    "x = vectorizer.fit_transform(newsgroup.data)"
   ]
  },
  {
   "cell_type": "code",
   "execution_count": 76,
   "metadata": {},
   "outputs": [],
   "source": [
    "phone = vectorizer.vocabulary_.get(f\"{u'phone'.lower()}\")"
   ]
  },
  {
   "cell_type": "code",
   "execution_count": 77,
   "metadata": {},
   "outputs": [],
   "source": [
    "def q6():\n",
    "    return int(x[:, phone].sum())"
   ]
  },
  {
   "cell_type": "markdown",
   "metadata": {},
   "source": [
    "## Questão 7\n",
    "\n",
    "Aplique `TfidfVectorizer` ao _data set_ `newsgroups` e descubra o TF-IDF da palavra _phone_. Responda como um único escalar arredondado para três casas decimais."
   ]
  },
  {
   "cell_type": "code",
   "execution_count": 78,
   "metadata": {},
   "outputs": [],
   "source": [
    "vectorizer = TfidfVectorizer()\n",
    "X = vectorizer.fit_transform(newsgroup.data)"
   ]
  },
  {
   "cell_type": "code",
   "execution_count": 79,
   "metadata": {},
   "outputs": [
    {
     "data": {
      "text/plain": [
       "19211"
      ]
     },
     "execution_count": 79,
     "metadata": {},
     "output_type": "execute_result"
    }
   ],
   "source": [
    "phone = vectorizer.get_feature_names().index(u'phone')\n",
    "phone"
   ]
  },
  {
   "cell_type": "code",
   "execution_count": 80,
   "metadata": {},
   "outputs": [],
   "source": [
    "tf_idf_phone = X[:, phone].sum()"
   ]
  },
  {
   "cell_type": "code",
   "execution_count": 81,
   "metadata": {},
   "outputs": [],
   "source": [
    "def q7():\n",
    "    return float(tf_idf_phone.round(3))"
   ]
  }
 ],
 "metadata": {
  "kernelspec": {
   "display_name": "Dev",
   "language": "python",
   "name": "dev"
  },
  "language_info": {
   "codemirror_mode": {
    "name": "ipython",
    "version": 3
   },
   "file_extension": ".py",
   "mimetype": "text/x-python",
   "name": "python",
   "nbconvert_exporter": "python",
   "pygments_lexer": "ipython3",
   "version": "3.7.7"
  }
 },
 "nbformat": 4,
 "nbformat_minor": 2
}
