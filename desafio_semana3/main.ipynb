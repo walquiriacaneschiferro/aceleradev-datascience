{
 "cells": [
  {
   "cell_type": "code",
   "execution_count": 6,
   "metadata": {},
   "outputs": [],
   "source": [
    "# Importando a biblioteca pandas\n",
    "\n",
    "import pandas as pd"
   ]
  },
  {
   "cell_type": "code",
   "execution_count": 7,
   "metadata": {},
   "outputs": [],
   "source": [
    "# Carregando o arquivo\n",
    "\n",
    "df = pd.read_csv('desafio1.csv', index_col = 0)"
   ]
  },
  {
   "cell_type": "code",
   "execution_count": 8,
   "metadata": {},
   "outputs": [
    {
     "data": {
      "text/html": [
       "<div>\n",
       "<style scoped>\n",
       "    .dataframe tbody tr th:only-of-type {\n",
       "        vertical-align: middle;\n",
       "    }\n",
       "\n",
       "    .dataframe tbody tr th {\n",
       "        vertical-align: top;\n",
       "    }\n",
       "\n",
       "    .dataframe thead th {\n",
       "        text-align: right;\n",
       "    }\n",
       "</style>\n",
       "<table border=\"1\" class=\"dataframe\">\n",
       "  <thead>\n",
       "    <tr style=\"text-align: right;\">\n",
       "      <th></th>\n",
       "      <th>id</th>\n",
       "      <th>sobrenome</th>\n",
       "      <th>pontuacao_credito</th>\n",
       "      <th>estado_residencia</th>\n",
       "      <th>genero</th>\n",
       "      <th>idade</th>\n",
       "      <th>nivel_estabilidade</th>\n",
       "      <th>saldo_conta</th>\n",
       "      <th>numero_produtos</th>\n",
       "      <th>possui_cartao_de_credito</th>\n",
       "      <th>membro_ativo</th>\n",
       "    </tr>\n",
       "    <tr>\n",
       "      <th>RowNumber</th>\n",
       "      <th></th>\n",
       "      <th></th>\n",
       "      <th></th>\n",
       "      <th></th>\n",
       "      <th></th>\n",
       "      <th></th>\n",
       "      <th></th>\n",
       "      <th></th>\n",
       "      <th></th>\n",
       "      <th></th>\n",
       "      <th></th>\n",
       "    </tr>\n",
       "  </thead>\n",
       "  <tbody>\n",
       "    <tr>\n",
       "      <th>1</th>\n",
       "      <td>e7f44fcbd380d4cef7e6c232cc7e37895c3fd197</td>\n",
       "      <td>6d6e0aa1b9b413e442e2fb68df14b4fc3f91de50</td>\n",
       "      <td>619</td>\n",
       "      <td>SC</td>\n",
       "      <td>F</td>\n",
       "      <td>42</td>\n",
       "      <td>2</td>\n",
       "      <td>0.00</td>\n",
       "      <td>1</td>\n",
       "      <td>1</td>\n",
       "      <td>1</td>\n",
       "    </tr>\n",
       "    <tr>\n",
       "      <th>2</th>\n",
       "      <td>28dcb083ad90512da16b9430085c2cddb8ca5e12</td>\n",
       "      <td>48e1ad846796fa314f1b4a6702b83343eb5482c5</td>\n",
       "      <td>608</td>\n",
       "      <td>RS</td>\n",
       "      <td>F</td>\n",
       "      <td>41</td>\n",
       "      <td>1</td>\n",
       "      <td>83807.86</td>\n",
       "      <td>1</td>\n",
       "      <td>0</td>\n",
       "      <td>1</td>\n",
       "    </tr>\n",
       "    <tr>\n",
       "      <th>3</th>\n",
       "      <td>774bc378f787438c9c7594e536787d07a097a54b</td>\n",
       "      <td>f2b29d5d934de615812b697132e767dea0f1e9e2</td>\n",
       "      <td>502</td>\n",
       "      <td>SC</td>\n",
       "      <td>F</td>\n",
       "      <td>42</td>\n",
       "      <td>8</td>\n",
       "      <td>159660.80</td>\n",
       "      <td>3</td>\n",
       "      <td>1</td>\n",
       "      <td>0</td>\n",
       "    </tr>\n",
       "    <tr>\n",
       "      <th>4</th>\n",
       "      <td>043a71326f7096de155e7f0c559dc62b5e4b7239</td>\n",
       "      <td>85d5c9da7cddd8109ad32a6c348fe2bb10bf99f2</td>\n",
       "      <td>699</td>\n",
       "      <td>SC</td>\n",
       "      <td>F</td>\n",
       "      <td>39</td>\n",
       "      <td>1</td>\n",
       "      <td>0.00</td>\n",
       "      <td>2</td>\n",
       "      <td>0</td>\n",
       "      <td>0</td>\n",
       "    </tr>\n",
       "    <tr>\n",
       "      <th>5</th>\n",
       "      <td>37b3bb8ca243955fb3605ec7e1c2a4607cdb3b22</td>\n",
       "      <td>ddc89c837a6933639de75f28171057060bd322df</td>\n",
       "      <td>850</td>\n",
       "      <td>RS</td>\n",
       "      <td>F</td>\n",
       "      <td>43</td>\n",
       "      <td>2</td>\n",
       "      <td>125510.82</td>\n",
       "      <td>1</td>\n",
       "      <td>1</td>\n",
       "      <td>1</td>\n",
       "    </tr>\n",
       "  </tbody>\n",
       "</table>\n",
       "</div>"
      ],
      "text/plain": [
       "                                                 id  \\\n",
       "RowNumber                                             \n",
       "1          e7f44fcbd380d4cef7e6c232cc7e37895c3fd197   \n",
       "2          28dcb083ad90512da16b9430085c2cddb8ca5e12   \n",
       "3          774bc378f787438c9c7594e536787d07a097a54b   \n",
       "4          043a71326f7096de155e7f0c559dc62b5e4b7239   \n",
       "5          37b3bb8ca243955fb3605ec7e1c2a4607cdb3b22   \n",
       "\n",
       "                                          sobrenome  pontuacao_credito  \\\n",
       "RowNumber                                                                \n",
       "1          6d6e0aa1b9b413e442e2fb68df14b4fc3f91de50                619   \n",
       "2          48e1ad846796fa314f1b4a6702b83343eb5482c5                608   \n",
       "3          f2b29d5d934de615812b697132e767dea0f1e9e2                502   \n",
       "4          85d5c9da7cddd8109ad32a6c348fe2bb10bf99f2                699   \n",
       "5          ddc89c837a6933639de75f28171057060bd322df                850   \n",
       "\n",
       "          estado_residencia genero  idade  nivel_estabilidade  saldo_conta  \\\n",
       "RowNumber                                                                    \n",
       "1                        SC      F     42                   2         0.00   \n",
       "2                        RS      F     41                   1     83807.86   \n",
       "3                        SC      F     42                   8    159660.80   \n",
       "4                        SC      F     39                   1         0.00   \n",
       "5                        RS      F     43                   2    125510.82   \n",
       "\n",
       "           numero_produtos  possui_cartao_de_credito  membro_ativo  \n",
       "RowNumber                                                           \n",
       "1                        1                         1             1  \n",
       "2                        1                         0             1  \n",
       "3                        3                         1             0  \n",
       "4                        2                         0             0  \n",
       "5                        1                         1             1  "
      ]
     },
     "execution_count": 8,
     "metadata": {},
     "output_type": "execute_result"
    }
   ],
   "source": [
    "# Visualizando o arquivo \n",
    "df.head()"
   ]
  },
  {
   "cell_type": "code",
   "execution_count": 9,
   "metadata": {},
   "outputs": [
    {
     "data": {
      "text/plain": [
       "id                           object\n",
       "sobrenome                    object\n",
       "pontuacao_credito             int64\n",
       "estado_residencia            object\n",
       "genero                       object\n",
       "idade                         int64\n",
       "nivel_estabilidade            int64\n",
       "saldo_conta                 float64\n",
       "numero_produtos               int64\n",
       "possui_cartao_de_credito      int64\n",
       "membro_ativo                  int64\n",
       "dtype: object"
      ]
     },
     "execution_count": 9,
     "metadata": {},
     "output_type": "execute_result"
    }
   ],
   "source": [
    "# Vamos verificar os tipos das variáveis\n",
    "\n",
    "df.dtypes"
   ]
  },
  {
   "cell_type": "code",
   "execution_count": 10,
   "metadata": {},
   "outputs": [
    {
     "data": {
      "text/plain": [
       "Index(['id', 'sobrenome', 'pontuacao_credito', 'estado_residencia', 'genero',\n",
       "       'idade', 'nivel_estabilidade', 'saldo_conta', 'numero_produtos',\n",
       "       'possui_cartao_de_credito', 'membro_ativo'],\n",
       "      dtype='object')"
      ]
     },
     "execution_count": 10,
     "metadata": {},
     "output_type": "execute_result"
    }
   ],
   "source": [
    "# Vamos ver as colunas\n",
    "\n",
    "df.columns"
   ]
  },
  {
   "cell_type": "code",
   "execution_count": 11,
   "metadata": {},
   "outputs": [
    {
     "name": "stdout",
     "output_type": "stream",
     "text": [
      "estado_residencia\n",
      "PR    648.961294\n",
      "RS    651.105143\n",
      "SC    649.537653\n",
      "Name: pontuacao_credito, dtype: float64\n"
     ]
    }
   ],
   "source": [
    "# Agora vamos para o desafio\n",
    "\n",
    "mean = df.groupby('estado_residencia')['pontuacao_credito'].mean()\n",
    "print(mean)"
   ]
  },
  {
   "cell_type": "code",
   "execution_count": 12,
   "metadata": {},
   "outputs": [
    {
     "name": "stdout",
     "output_type": "stream",
     "text": [
      "estado_residencia\n",
      "PR    650\n",
      "RS    650\n",
      "SC    653\n",
      "Name: pontuacao_credito, dtype: int64\n"
     ]
    }
   ],
   "source": [
    "median = df.groupby('estado_residencia')['pontuacao_credito'].median()\n",
    "print(median)"
   ]
  },
  {
   "cell_type": "code",
   "execution_count": 13,
   "metadata": {},
   "outputs": [
    {
     "name": "stdout",
     "output_type": "stream",
     "text": [
      "estado_residencia\n",
      "PR    850\n",
      "RS    850\n",
      "SC    850\n",
      "Name: pontuacao_credito, dtype: int64\n"
     ]
    }
   ],
   "source": [
    "mode = df.groupby('estado_residencia')['pontuacao_credito'].agg(pd.Series.mode)\n",
    "print(mode)"
   ]
  },
  {
   "cell_type": "code",
   "execution_count": 14,
   "metadata": {},
   "outputs": [
    {
     "name": "stdout",
     "output_type": "stream",
     "text": [
      "estado_residencia\n",
      "PR    98.607186\n",
      "RS    95.136598\n",
      "SC    97.233493\n",
      "Name: pontuacao_credito, dtype: float64\n"
     ]
    }
   ],
   "source": [
    "std = df.groupby('estado_residencia')['pontuacao_credito'].std()\n",
    "print(std)"
   ]
  },
  {
   "cell_type": "code",
   "execution_count": 15,
   "metadata": {},
   "outputs": [],
   "source": [
    "# Vamos submeter o desafio\n",
    "\n",
    "submission = {\n",
    "    state:{\n",
    "        'moda': mode[state],\n",
    "        'media': mean[state],\n",
    "        'mediana': median[state],\n",
    "        'desvio_padrao': std[state],\n",
    "    } for state in mean.index\n",
    "}\n",
    "\n",
    "submission = pd.DataFrame(submission)"
   ]
  },
  {
   "cell_type": "code",
   "execution_count": 16,
   "metadata": {},
   "outputs": [
    {
     "name": "stdout",
     "output_type": "stream",
     "text": [
      "                       PR          RS          SC\n",
      "moda           850.000000  850.000000  850.000000\n",
      "media          648.961294  651.105143  649.537653\n",
      "mediana        650.000000  650.000000  653.000000\n",
      "desvio_padrao   98.607186   95.136598   97.233493\n"
     ]
    }
   ],
   "source": [
    "print(submission)"
   ]
  },
  {
   "cell_type": "code",
   "execution_count": 17,
   "metadata": {},
   "outputs": [],
   "source": [
    "submission.to_json('submission.json')"
   ]
  }
 ],
 "metadata": {
  "kernelspec": {
   "display_name": "Python (myprojectenv)",
   "language": "python",
   "name": "myprojectenv"
  },
  "language_info": {
   "codemirror_mode": {
    "name": "ipython",
    "version": 3
   },
   "file_extension": ".py",
   "mimetype": "text/x-python",
   "name": "python",
   "nbconvert_exporter": "python",
   "pygments_lexer": "ipython3",
   "version": "3.7.6"
  }
 },
 "nbformat": 4,
 "nbformat_minor": 4
}
